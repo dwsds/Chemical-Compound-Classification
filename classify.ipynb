{
  "cells": [
    {
      "cell_type": "markdown",
      "metadata": {
        "id": "view-in-github",
        "colab_type": "text"
      },
      "source": [
        "<a href=\"https://colab.research.google.com/github/dwsds/Chemical-Compound-Classification/blob/main/classify.ipynb\" target=\"_parent\"><img src=\"https://colab.research.google.com/assets/colab-badge.svg\" alt=\"Open In Colab\"/></a>"
      ]
    },
    {
      "cell_type": "code",
      "execution_count": null,
      "metadata": {
        "id": "wiAqMnJVmJaO"
      },
      "outputs": [],
      "source": [
        "import pandas as pd\n",
        "from rdkit import Chem\n",
        "from rdkit.Chem import Draw,AllChem\n",
        "import torch\n",
        "from torch_geometric.nn import models\n",
        "import matplotlib.pyplot as plt\n",
        "import numpy as np\n",
        "device = 'cuda' if torch.cuda.is_available() else 'cpu'"
      ]
    },
    {
      "cell_type": "markdown",
      "metadata": {
        "id": "Szd-VvCKmJaV"
      },
      "source": [
        "## Converting the data from SMILES to atomic coordinates"
      ]
    },
    {
      "cell_type": "code",
      "execution_count": null,
      "metadata": {
        "id": "9b8HkpiGmJaY"
      },
      "outputs": [],
      "source": [
        "df=pd.read_csv('training_data_bitter.csv')\n",
        "df['IsValid']=0\n",
        "\n",
        "for i in range(df.shape[0]):\n",
        "    m=Chem.MolFromSmiles(df.loc[i,'SMILES'])\n",
        "    try:\n",
        "        if(m.GetNumAtoms()):\n",
        "            df.loc[i,'IsValid']=1\n",
        "\n",
        "            continue\n",
        "        else:\n",
        "            print(False)\n",
        "    except:\n",
        "        print(False)\n",
        "\n",
        "df1=df[df['IsValid']==1].drop(columns=['IsValid'])\n",
        "\n",
        "atomicNums=[]\n",
        "pos=[]\n",
        "Y0=[]\n",
        "for i,y in zip(df1['SMILES'],df1['Label']):\n",
        "    try:\n",
        "        m=Chem.MolFromSmiles(i)\n",
        "        m = Chem.AddHs(m)\n",
        "        AllChem.EmbedMolecule(m)\n",
        "        AllChem.UFFOptimizeMolecule(m)\n",
        "        j=0\n",
        "        temp_pos=[]\n",
        "        temp_atomicNums=[]\n",
        "        for k in m.GetAtoms():\n",
        "            temp_atomicNums.append(k.GetAtomicNum())\n",
        "            temp_pos.append([m.GetConformer().GetAtomPosition(j).x,m.GetConformer().GetAtomPosition(j).y,m.GetConformer().GetAtomPosition(j).z])\n",
        "            j+=1\n",
        "        atomicNums.append(temp_atomicNums)\n",
        "        pos.append(temp_pos)\n",
        "        Y0.append(y)\n",
        "    except:\n",
        "        print(\"invalid\")\n",
        "\n",
        "Y=torch.tensor(Y0)\n",
        "atomic_nums_tensor=[torch.tensor(i,dtype=torch.int64) for i in atomicNums]\n",
        "pos_tensor=[torch.tensor(i) for i in pos]"
      ]
    },
    {
      "cell_type": "markdown",
      "metadata": {
        "id": "4Dp0dr5JmJaZ"
      },
      "source": [
        "## Running the Model"
      ]
    },
    {
      "cell_type": "code",
      "execution_count": null,
      "metadata": {
        "id": "KXzZ_OU9mJaa"
      },
      "outputs": [],
      "source": [
        "total_epochs=0\n",
        "cost = []\n",
        "model=models.SchNet(readout='mean')\n",
        "# model=model.to(device)\n",
        "\n",
        "def criterion(y_pred, y):\n",
        "    out = torch.mean((y-y_pred)**2)\n",
        "    return out\n",
        "optimizer = torch.optim.Adam(model.parameters(), lr=1e-6)\n",
        "total=0"
      ]
    },
    {
      "cell_type": "code",
      "execution_count": null,
      "metadata": {
        "id": "QL-ROy4HmJab"
      },
      "outputs": [],
      "source": [
        "epochs=50"
      ]
    },
    {
      "cell_type": "code",
      "execution_count": null,
      "metadata": {
        "id": "3_ulO_8rmJab",
        "outputId": "112c9cdc-19da-4b89-a9cf-fa9d873dc199"
      },
      "outputs": [
        {
          "name": "stdout",
          "output_type": "stream",
          "text": [
            "epochs : 1 total : 599.405688346674\n",
            "epochs : 2 total : 354.06847232818257\n",
            "epochs : 3 total : 305.7639268277178\n",
            "epochs : 4 total : 293.16857902721244\n",
            "epochs : 5 total : 288.58278160142413\n",
            "epochs : 6 total : 285.57394388754386\n",
            "epochs : 7 total : 282.998463413194\n",
            "epochs : 8 total : 280.6690099692446\n",
            "epochs : 9 total : 278.5443461324329\n",
            "epochs : 10 total : 276.59935268553284\n",
            "epochs : 11 total : 274.8102965860021\n",
            "epochs : 12 total : 273.155161061495\n",
            "epochs : 13 total : 271.6159735050038\n",
            "epochs : 14 total : 270.1774311843742\n",
            "epochs : 15 total : 268.8271122385021\n",
            "epochs : 16 total : 267.5546338196773\n",
            "epochs : 17 total : 266.3512222791795\n",
            "epochs : 18 total : 265.2092621365047\n",
            "epochs : 19 total : 264.1224851070685\n",
            "epochs : 20 total : 263.0859207410187\n",
            "epochs : 21 total : 262.09458604120795\n",
            "epochs : 22 total : 261.14443366360035\n",
            "epochs : 23 total : 260.2317869511165\n",
            "epochs : 24 total : 259.3530113024131\n",
            "epochs : 25 total : 258.5054319940839\n",
            "epochs : 26 total : 257.6864285333527\n",
            "epochs : 27 total : 256.8942718039963\n",
            "epochs : 28 total : 256.12701374489006\n",
            "epochs : 29 total : 255.3833003992676\n",
            "epochs : 30 total : 254.66161208174344\n",
            "epochs : 31 total : 253.960664094202\n",
            "epochs : 32 total : 253.2791255526399\n",
            "epochs : 33 total : 252.61535104422197\n",
            "epochs : 34 total : 251.96815843724295\n",
            "epochs : 35 total : 251.33642979297898\n",
            "epochs : 36 total : 250.71920626019437\n",
            "epochs : 37 total : 250.11564273148954\n",
            "epochs : 38 total : 249.52470404346033\n",
            "epochs : 39 total : 248.9458464738556\n",
            "epochs : 40 total : 248.37799087631242\n",
            "epochs : 41 total : 247.82074353104997\n",
            "epochs : 42 total : 247.27359195550846\n",
            "epochs : 43 total : 246.7358895072233\n",
            "epochs : 44 total : 246.20708045125764\n",
            "epochs : 45 total : 245.68686889711609\n",
            "epochs : 46 total : 245.17472673236819\n",
            "epochs : 47 total : 244.67062940717378\n",
            "epochs : 48 total : 244.17404601617034\n",
            "epochs : 49 total : 243.68490779767637\n",
            "epochs : 50 total : 243.2028697366065\n"
          ]
        }
      ],
      "source": [
        "for epoch in range(epochs):\n",
        "    total=0\n",
        "    epoch = epoch + 1\n",
        "    for at,ps, y in zip(atomic_nums_tensor,pos_tensor, Y):\n",
        "        yhat = model(at,ps)\n",
        "        loss = criterion(yhat, y)\n",
        "        loss.backward()\n",
        "        optimizer.step()\n",
        "        optimizer.zero_grad()\n",
        "        total+=loss.item()\n",
        "    cost.append(total)\n",
        "    total_epochs+=1\n",
        "    if epoch % 1 == 0:\n",
        "        print(f\"epochs : {total_epochs} total : {total}\")"
      ]
    },
    {
      "cell_type": "markdown",
      "metadata": {
        "id": "dXqSPJ5ZmJae"
      },
      "source": [
        "## Loss function vs no. of iterations"
      ]
    },
    {
      "cell_type": "code",
      "execution_count": null,
      "metadata": {
        "id": "8yJ9UveFmJae",
        "outputId": "8c237b1b-0313-4318-9c66-7be3ddc273a7"
      },
      "outputs": [
        {
          "data": {
            "image/png": "[encoded data removed]",
            "text/plain": [
              "<Figure size 640x480 with 1 Axes>"
            ]
          },
          "metadata": {},
          "output_type": "display_data"
        }
      ],
      "source": [
        "plt.plot(np.arange(len(cost)),cost)\n",
        "plt.show()"
      ]
    },
    {
      "cell_type": "code",
      "execution_count": null,
      "metadata": {
        "id": "7kM8z_A4mJaf"
      },
      "outputs": [],
      "source": [
        "pred_vals=[model(atomic_nums_tensor[i],pos_tensor[i]).detach().numpy()[0][0] for i in range(len(Y))]"
      ]
    },
    {
      "cell_type": "code",
      "execution_count": null,
      "metadata": {
        "id": "D_Wjp50MmJaf"
      },
      "outputs": [],
      "source": [
        "def accuracy(x,y,n):\n",
        "    sum=0\n",
        "    for i in range(n):\n",
        "        if(x[i]==y[i]):\n",
        "            sum+=1\n",
        "    return sum/n\n",
        "\n",
        "pred_classifications=[1 if pred_vals[i]>=0.5 else 0 for i in range(len(pred_vals))]\n",
        "print(accuracy(pred_classifications,Y,len(Y)))\n",
        "plt.scatter(range(len(pred_vals[:100])),Y[:100],color='blue')\n",
        "plt.scatter(range(len(pred_vals[:100])),pred_classifications[:100],color='orange')\n",
        "plt.show()"
      ]
    },
    {
      "cell_type": "markdown",
      "metadata": {
        "id": "yXqDRAZ0mJag"
      },
      "source": [
        "## Checking accuracy for testing data"
      ]
    },
    {
      "cell_type": "code",
      "execution_count": null,
      "metadata": {
        "id": "FrDcaIphmJag"
      },
      "outputs": [],
      "source": [
        "df_test=pd.read_csv('testing_data_bitter.csv')\n",
        "df_test['IsValid']=0\n",
        "\n",
        "for i in range(df_test.shape[0]):\n",
        "    m=Chem.MolFromSmiles(df_test.loc[i,'SMILES'])\n",
        "    try:\n",
        "        if(m.GetNumAtoms()):\n",
        "            df_test.loc[i,'IsValid']=1\n",
        "\n",
        "            continue\n",
        "        else:\n",
        "            print(False)\n",
        "    except:\n",
        "        print(False)\n",
        "\n",
        "df1_test=df_test[df_test['IsValid']==1].drop(columns=['IsValid'])\n",
        "\n",
        "atomicNums_test=[]\n",
        "pos_test=[]\n",
        "Y0_test=[]\n",
        "for i,y in zip(df1_test['SMILES'],df1_test['Label']):\n",
        "    try:\n",
        "        m=Chem.MolFromSmiles(i)\n",
        "        m = Chem.AddHs(m)\n",
        "        AllChem.EmbedMolecule(m)\n",
        "        AllChem.UFFOptimizeMolecule(m)\n",
        "        j=0\n",
        "        temp_pos=[]\n",
        "        temp_atomicNums=[]\n",
        "        for k in m.GetAtoms():\n",
        "            temp_atomicNums.append(k.GetAtomicNum())\n",
        "            temp_pos.append([m.GetConformer().GetAtomPosition(j).x,m.GetConformer().GetAtomPosition(j).y,m.GetConformer().GetAtomPosition(j).z])\n",
        "            j+=1\n",
        "        atomicNums_test.append(temp_atomicNums)\n",
        "        pos_test.append(temp_pos)\n",
        "        Y0_test.append(y)\n",
        "    except:\n",
        "        print(\"invalid\")\n",
        "\n",
        "Y_test=torch.tensor(Y0_test)\n",
        "atomic_nums_tensor_test=[torch.tensor(i,dtype=torch.int64) for i in atomicNums_test]\n",
        "pos_tensor_test=[torch.tensor(i) for i in pos_test]"
      ]
    },
    {
      "cell_type": "code",
      "execution_count": null,
      "metadata": {
        "id": "0aTYYrhwmJah"
      },
      "outputs": [],
      "source": [
        "pred_vals_test=[model(atomic_nums_tensor_test[i],pos_tensor_test[i]).detach().numpy()[0][0] for i in range(len(Y_test))]"
      ]
    },
    {
      "cell_type": "code",
      "execution_count": null,
      "metadata": {
        "id": "BwNewUucmJah",
        "outputId": "41ede5d0-b35d-4e15-bae9-5c0b0162144a"
      },
      "outputs": [
        {
          "name": "stdout",
          "output_type": "stream",
          "text": [
            "accuracy : 0.6923076923076923\n"
          ]
        }
      ],
      "source": [
        "pred_classifications_test=[1 if pred_vals_test[i]>=0.5 else 0 for i in range(len(pred_vals_test))]\n",
        "print(f\"accuracy : {accuracy(pred_classifications_test,Y_test,len(Y_test))}\")"
      ]
    },
    {
      "cell_type": "code",
      "execution_count": null,
      "metadata": {
        "id": "88BP9ldzmJai",
        "outputId": "a848b542-1dce-47f5-83ef-e1290713dc61"
      },
      "outputs": [
        {
          "data": {
            "image/png": "[encoded data removed]",
            "text/plain": [
              "<Figure size 640x480 with 1 Axes>"
            ]
          },
          "metadata": {},
          "output_type": "display_data"
        }
      ],
      "source": [
        "plt.scatter(range(len(pred_vals_test)),Y_test,color='blue')\n",
        "plt.scatter(range(len(pred_vals_test)),pred_classifications_test,color='orange')\n",
        "plt.show()"
      ]
    },
    {
      "cell_type": "markdown",
      "metadata": {
        "id": "mlKhboSMmJai"
      },
      "source": [
        "## Citations\n",
        "- [SchNet A deep learning architecture for molecules and materialss]( https://www.researchgate.net/publication/324101624_SchNet_-_A_deep_learning_architecture_for_molecules_and_materia)\n",
        "- [SchNet A continuous-filter convolutional neuralnetwork for modeling quantum interactions](https://arxiv.org/pdf/1706.08566.pdf)8566.pdf"
      ]
    }
  ],
  "metadata": {
    "kernelspec": {
      "display_name": "Python 3 (ipykernel)",
      "language": "python",
      "name": "python3"
    },
    "language_info": {
      "codemirror_mode": {
        "name": "ipython",
        "version": 3
      },
      "file_extension": ".py",
      "mimetype": "text/x-python",
      "name": "python",
      "nbconvert_exporter": "python",
      "pygments_lexer": "ipython3",
      "version": "3.11.4"
    },
    "colab": {
      "provenance": [],
      "include_colab_link": true
    }
  },
  "nbformat": 4,
  "nbformat_minor": 0
}